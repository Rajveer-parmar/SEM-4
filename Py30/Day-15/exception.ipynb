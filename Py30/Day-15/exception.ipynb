{
 "cells": [
  {
   "cell_type": "markdown",
   "metadata": {},
   "source": [
    "<a href='https://www.darshan.ac.in/'> <img src='https://www.darshan.ac.in/Content/media/DU_Logo.svg' width=\"250\" height=\"300\"/></a>\n",
    "<pre>\n",
    "<center><b><h1>Python Programming - 2101CS405</b></center>\n",
    "<center><b><h1>Lab - 9</b></center>    \n",
    "<pre>"
   ]
  },
  {
   "cell_type": "markdown",
   "metadata": {},
   "source": [
    "# Exception Handling"
   ]
  },
  {
   "cell_type": "markdown",
   "metadata": {},
   "source": [
    "# A"
   ]
  },
  {
   "cell_type": "markdown",
   "metadata": {},
   "source": [
    "### 01) WAP to handle divide by zero exception."
   ]
  },
  {
   "cell_type": "code",
   "execution_count": 2,
   "metadata": {},
   "outputs": [
    {
     "name": "stdout",
     "output_type": "stream",
     "text": [
      "enter value 5\n",
      "enter value 3\n",
      "1.6666666666666667\n"
     ]
    }
   ],
   "source": [
    "a=int(input(\"enter value \"))\n",
    "b=int(input(\"enter value \"))\n",
    "try:\n",
    "    print(a/b)\n",
    "except ZeroDivisionError:\n",
    "    print(\"divide by zero is not possible\")"
   ]
  },
  {
   "cell_type": "markdown",
   "metadata": {},
   "source": [
    "### 02)  Write a Python program that inputs a number and generates an error message if it is not a number."
   ]
  },
  {
   "cell_type": "code",
   "execution_count": 4,
   "metadata": {},
   "outputs": [
    {
     "name": "stdout",
     "output_type": "stream",
     "text": [
      "enter any numberdsd\n",
      "value of a is not int \n"
     ]
    }
   ],
   "source": [
    "try:\n",
    "    a=int(input(\"enter any number\"))\n",
    "except ValueError:\n",
    "    print(\"value of a is not int \")"
   ]
  },
  {
   "cell_type": "markdown",
   "metadata": {},
   "source": [
    "### 03) WAP to handle file not found Exception"
   ]
  },
  {
   "cell_type": "code",
   "execution_count": 8,
   "metadata": {},
   "outputs": [
    {
     "name": "stdout",
     "output_type": "stream",
     "text": [
      "enter file name which you want to seeabc.txt\n",
      "file not found\n"
     ]
    }
   ],
   "source": [
    "d=input(\"enter file name which you want to see\")\n",
    "try:\n",
    "    f=open(d).read()\n",
    "    print(f)\n",
    "except FileNotFoundError:\n",
    "    print(\"file not found\")"
   ]
  },
  {
   "cell_type": "markdown",
   "metadata": {},
   "source": [
    "### 04) WAP to handle type Exception."
   ]
  },
  {
   "cell_type": "code",
   "execution_count": 9,
   "metadata": {},
   "outputs": [
    {
     "name": "stdout",
     "output_type": "stream",
     "text": [
      "enter any number5\n",
      "enter stringdad\n",
      "you cant combine int and str\n"
     ]
    }
   ],
   "source": [
    "a=int(input(\"enter any number\"))\n",
    "b=input(\"enter string\")\n",
    "try:\n",
    "    a+b\n",
    "except TypeError:\n",
    "    print(\"you cant combine int and str\")"
   ]
  },
  {
   "cell_type": "markdown",
   "metadata": {},
   "source": [
    "### 05) WAP to demonstrate valueError and indexError with example."
   ]
  },
  {
   "cell_type": "code",
   "execution_count": 20,
   "metadata": {},
   "outputs": [
    {
     "name": "stdout",
     "output_type": "stream",
     "text": [
      "enter the value in int 555\n",
      "index error\n"
     ]
    }
   ],
   "source": [
    "a=[1,2,3]\n",
    "\n",
    "try:\n",
    "    b=int(input(\"enter the value in int \"))\n",
    "    print(a[10])\n",
    "except ValueError:\n",
    "    print(\"value Error\")\n",
    "except IndexError:\n",
    "    print(\"index error\")"
   ]
  },
  {
   "cell_type": "markdown",
   "metadata": {},
   "source": [
    "### 06) WAP to domonstrate else  and finally block."
   ]
  },
  {
   "cell_type": "code",
   "execution_count": 23,
   "metadata": {},
   "outputs": [
    {
     "name": "stdout",
     "output_type": "stream",
     "text": [
      "enter valuefsf\n",
      "enter int value\n",
      "this is finally block\n"
     ]
    }
   ],
   "source": [
    "try:\n",
    "    a=int(input(\"enter value\"))\n",
    "except ValueError:\n",
    "    print(\"enter int value\")\n",
    "else :\n",
    "    print(\"you have enter an int value\")\n",
    "finally:\n",
    "    print(\"this is finally block\")"
   ]
  },
  {
   "cell_type": "markdown",
   "metadata": {},
   "source": [
    "### 07) Create a short program that prompts the user for a list of grades separated by commas. Split the string into individual grades and use a list comprehension to convert each string to an integer. You should use a try statement to inform the user when the values they entered cannot be converted."
   ]
  },
  {
   "cell_type": "code",
   "execution_count": 28,
   "metadata": {},
   "outputs": [
    {
     "name": "stdout",
     "output_type": "stream",
     "text": [
      "enter CSV value54,ded\n",
      "you have entered not int value in input\n"
     ]
    }
   ],
   "source": [
    "a=input(\"enter CSV value\").split(\",\")\n",
    "try:\n",
    "    b=[int(i) for i in a]\n",
    "except ValueError:\n",
    "    print(\"you have entered not int value in input\")\n",
    "else:\n",
    "    print(b)"
   ]
  },
  {
   "cell_type": "markdown",
   "metadata": {},
   "source": []
  },
  {
   "cell_type": "markdown",
   "metadata": {},
   "source": [
    "# B"
   ]
  },
  {
   "cell_type": "markdown",
   "metadata": {},
   "source": [
    "### 01) WAP to Raising User Generated Exception."
   ]
  },
  {
   "cell_type": "code",
   "execution_count": 44,
   "metadata": {},
   "outputs": [
    {
     "name": "stdout",
     "output_type": "stream",
     "text": [
      "enter value-5\n",
      "Suuuuuuuuuuiiiiiii\n"
     ]
    }
   ],
   "source": [
    "try:\n",
    "    a=int(input(\"enter value\"))\n",
    "    if a<0:\n",
    "        raise ValueError\n",
    "except ValueError:\n",
    "    print(\"Suuuuuuuuuuiiiiiii\")"
   ]
  },
  {
   "cell_type": "markdown",
   "metadata": {},
   "source": [
    "### 02) WAP to raise your custom Exception."
   ]
  },
  {
   "cell_type": "code",
   "execution_count": 49,
   "metadata": {},
   "outputs": [
    {
     "name": "stdout",
     "output_type": "stream",
     "text": [
      "enter your age-5\n",
      "your age is less than 0\n"
     ]
    }
   ],
   "source": [
    "class MyError(Exception):\n",
    "    \"\"\"this will genrate the error when the age is less than 0\"\"\"\n",
    "    args=[\"your age is less than 0\"]\n",
    "try:\n",
    "    a=int(input(\"enter your age\"))\n",
    "    if a<0:\n",
    "        raise MyError\n",
    "except MyError as e:\n",
    "    MyError??\n",
    "    print(e.args[0])"
   ]
  }
 ],
 "metadata": {
  "kernelspec": {
   "display_name": "Python 3 (ipykernel)",
   "language": "python",
   "name": "python3"
  },
  "language_info": {
   "codemirror_mode": {
    "name": "ipython",
    "version": 3
   },
   "file_extension": ".py",
   "mimetype": "text/x-python",
   "name": "python",
   "nbconvert_exporter": "python",
   "pygments_lexer": "ipython3",
   "version": "3.9.13"
  }
 },
 "nbformat": 4,
 "nbformat_minor": 4
}
